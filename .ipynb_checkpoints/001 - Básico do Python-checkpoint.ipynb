{
 "cells": [
  {
   "cell_type": "markdown",
   "id": "acff38f5-de57-4998-aca0-b12db0035194",
   "metadata": {},
   "source": [
    "### Plano de Estudos: Introdução ao Python e Criação de um Mini LLM\n",
    "\n",
    "Este plano de estudos é projetado para um iniciante que está aprendendo Python do zero e deseja construir um mini modelo de linguagem (LLM) com 10 parâmetros. Vamos abordar conceitos básicos de Python, bibliotecas essenciais, e a construção do modelo passo a passo.\n",
    "\n",
    "#### Estrutura do Plano de Estudos\n",
    "\n",
    "1. Introdução ao Python\n",
    "   - O que é Python?\n",
    "   - Instalando Python e Jupyter Notebook\n",
    "\n",
    "2. Conceitos Básicos de Python\n",
    "   - Variáveis e Tipos de Dados\n",
    "   - Estruturas de Controle\n",
    "   - Funções\n",
    "   - Estruturas de Dados (Listas, Dicionários, Tuplas)\n",
    "\n",
    "3. Trabalhando com Bibliotecas\n",
    "   - O que são bibliotecas?\n",
    "   - Como importar e usar bibliotecas\n",
    "\n",
    "4. Introdução ao NumPy\n",
    "   - O que é NumPy?\n",
    "   - Operações básicas com arrays\n",
    "\n",
    "5. Introdução ao TensorFlow\n",
    "   - O que é TensorFlow?\n",
    "   - Criando modelos simples com TensorFlow\n",
    "\n",
    "6. Criando um Mini LLM\n",
    "   - Construção do modelo\n",
    "   - Treinamento e avaliação do modelo\n"
   ]
  },
  {
   "cell_type": "markdown",
   "id": "84983387-82e3-436a-ba02-a9268066ebd6",
   "metadata": {},
   "source": [
    "#### 1. Introdução ao Python"
   ]
  },
  {
   "cell_type": "code",
   "execution_count": 7,
   "id": "f7322ee3-d85b-454c-83f2-240e7ce53477",
   "metadata": {
    "jp-MarkdownHeadingCollapsed": true
   },
   "outputs": [
    {
     "name": "stdout",
     "output_type": "stream",
     "text": [
      "10 3.14 Python True\n",
      "x é maior que 5\n",
      "Número: 0\n",
      "Número: 1\n",
      "Número: 2\n",
      "Número: 3\n",
      "Número: 4\n",
      "Olá, Mundo!\n",
      "Lista: [1, 2, 3, 4, 5]\n",
      "Dicionário: {'nome': 'Alice', 'idade': 25}\n"
     ]
    }
   ],
   "source": [
    "# Conceitos Básicos de Python\n",
    "\n",
    "# Variáveis e Tipos de Dados\n",
    "x = 10  # Inteiro\n",
    "y = 3.14  # Float\n",
    "name = \"Python\"  # String\n",
    "is_valid = True  # Boolean\n",
    "\n",
    "print(x, y, name, is_valid)\n",
    "\n",
    "# Estruturas de Controle\n",
    "# Condicionais\n",
    "if x > 5:\n",
    "    print(\"x é maior que 5\")\n",
    "else:\n",
    "    print(\"x é menor ou igual a 5\")\n",
    "\n",
    "# Laços\n",
    "for i in range(5):\n",
    "    print(\"Número:\", i)\n",
    "\n",
    "# Funções\n",
    "def saudacao(nome):\n",
    "    return f\"Olá, {nome}!\"\n",
    "\n",
    "print(saudacao(\"Mundo\"))\n",
    "\n",
    "# Estruturas de Dados\n",
    "# Listas\n",
    "numeros = [1, 2, 3, 4, 5]\n",
    "print(\"Lista:\", numeros)\n",
    "\n",
    "# Dicionários\n",
    "pessoa = {\"nome\": \"Alice\", \"idade\": 25}\n",
    "print(\"Dicionário:\", pessoa)\n"
   ]
  },
  {
   "cell_type": "markdown",
   "id": "201e83e4-cb1a-49ca-bd55-f1270845eb6f",
   "metadata": {},
   "source": [
    "#### 3. Trabalhando com Bibliotecas"
   ]
  },
  {
   "cell_type": "code",
   "execution_count": 10,
   "id": "aa81a211-ef5a-4140-8908-f902991f577a",
   "metadata": {},
   "outputs": [
    {
     "name": "stdout",
     "output_type": "stream",
     "text": [
      "Raiz quadrada de 16: 4.0\n",
      "Valor de pi: 3.141592653589793\n"
     ]
    }
   ],
   "source": [
    "# Trabalhando com Bibliotecas\n",
    "# Bibliotecas são coleções de módulos que adicionam funcionalidades extras ao Python.\n",
    "# Para usar uma biblioteca, precisamos importá-la.\n",
    "\n",
    "# Vamos importar a biblioteca `math` e usar algumas funções matemáticas.\n",
    "import math\n",
    "\n",
    "print(\"Raiz quadrada de 16:\", math.sqrt(16))\n",
    "print(\"Valor de pi:\", math.pi)"
   ]
  },
  {
   "cell_type": "markdown",
   "id": "3f54d85d-3d55-447d-a904-d150c1378abb",
   "metadata": {},
   "source": [
    "#### 4. Introdução ao NumPy"
   ]
  },
  {
   "cell_type": "code",
   "execution_count": 13,
   "id": "0f65ba00-02de-415a-bf34-41bc497469ff",
   "metadata": {},
   "outputs": [
    {
     "name": "stdout",
     "output_type": "stream",
     "text": [
      "Array NumPy: [1 2 3 4 5]\n",
      "Soma: 15\n",
      "Média: 3.0\n",
      "Desvio padrão: 1.4142135623730951\n"
     ]
    }
   ],
   "source": [
    "# Introdução ao NumPy\n",
    "# NumPy é uma biblioteca fundamental para computação científica em Python.\n",
    "# Ela adiciona suporte para grandes, multi-dimensionais arrays e matrizes.\n",
    "\n",
    "import numpy as np\n",
    "\n",
    "# Criando arrays NumPy\n",
    "arr = np.array([1, 2, 3, 4, 5])\n",
    "print(\"Array NumPy:\", arr)\n",
    "\n",
    "# Operações básicas\n",
    "print(\"Soma:\", np.sum(arr))\n",
    "print(\"Média:\", np.mean(arr))\n",
    "print(\"Desvio padrão:\", np.std(arr))"
   ]
  },
  {
   "cell_type": "markdown",
   "id": "f299825d-5864-4927-8ecd-fecba938f1c7",
   "metadata": {},
   "source": [
    "# Introdução ao TensorFlow\n",
    "\n",
    "## O que é TensorFlow?\n",
    "\n",
    "TensorFlow é uma biblioteca de código aberto para computação numérica e aprendizado de máquina. Ela permite a construção e treinamento de modelos de aprendizado de máquina de maneira eficiente, aproveitando a capacidade de processamento paralelo de GPUs (se disponíveis) ou CPUs.\n",
    "\n",
    "## Por que usamos TensorFlow?\n",
    "\n",
    "No nosso projeto, vamos usar TensorFlow para construir um modelo de linguagem (LLM) simples. Este modelo será capaz de aprender padrões a partir de dados de texto, o que é uma aplicação fundamental em várias áreas como processamento de linguagem natural (NLP), tradução automática, análise de sentimento, etc.\n",
    "\n",
    "## Exemplos de Aplicações de TensorFlow:\n",
    "\n",
    "- **Processamento de Linguagem Natural (NLP)**: Modelos de linguagem, análise de sentimento, chatbots.\n",
    "- **Visão Computacional**: Reconhecimento de imagens, detecção de objetos.\n",
    "- **Séries Temporais**: Previsão de preços de ações, análise de dados financeiros.\n",
    "- **Recomendação**: Sistemas de recomendação para e-commerce, streaming de vídeo/música.\n",
    "\n",
    "Vamos começar com alguns conceitos básicos do TensorFlow.\n"
   ]
  },
  {
   "cell_type": "code",
   "execution_count": 2,
   "id": "66912135-87b5-4eac-8f68-0317809bd91a",
   "metadata": {},
   "outputs": [
    {
     "name": "stdout",
     "output_type": "stream",
     "text": [
      "Tensor:\n",
      " tf.Tensor(\n",
      "[[1 2]\n",
      " [3 4]], shape=(2, 2), dtype=int32)\n",
      "Soma do tensor: tf.Tensor(10, shape=(), dtype=int32)\n",
      "Matriz transposta:\n",
      " tf.Tensor(\n",
      "[[1 3]\n",
      " [2 4]], shape=(2, 2), dtype=int32)\n"
     ]
    }
   ],
   "source": [
    "# Importando TensorFlow\n",
    "import tensorflow as tf\n",
    "\n",
    "# Criando um tensor constante\n",
    "# Um tensor é uma estrutura de dados multi-dimensional, semelhante a arrays e matrizes em outras bibliotecas\n",
    "tensor = tf.constant([[1, 2], [3, 4]])\n",
    "print(\"Tensor:\\n\", tensor)\n",
    "\n",
    "# Operações básicas com tensores\n",
    "print(\"Soma do tensor:\", tf.reduce_sum(tensor))\n",
    "print(\"Matriz transposta:\\n\", tf.transpose(tensor))\n",
    "\n",
    "# No nosso projeto, usaremos tensores para representar dados de entrada (texto, neste caso) que serão processados pelo nosso modelo.\n"
   ]
  },
  {
   "cell_type": "code",
   "execution_count": null,
   "id": "b01e887c-b024-4343-8813-f1b8c9cfc915",
   "metadata": {},
   "outputs": [],
   "source": []
  }
 ],
 "metadata": {
  "kernelspec": {
   "display_name": "Python 3 (ipykernel)",
   "language": "python",
   "name": "python3"
  },
  "language_info": {
   "codemirror_mode": {
    "name": "ipython",
    "version": 3
   },
   "file_extension": ".py",
   "mimetype": "text/x-python",
   "name": "python",
   "nbconvert_exporter": "python",
   "pygments_lexer": "ipython3",
   "version": "3.11.9"
  }
 },
 "nbformat": 4,
 "nbformat_minor": 5
}
