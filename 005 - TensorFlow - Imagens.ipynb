{
 "cells": [
  {
   "cell_type": "markdown",
   "id": "e2630e6a-6f84-468b-b944-39ec44f005df",
   "metadata": {},
   "source": [
    "## Reconhecimento de Imagens com MNIST\n",
    "\n",
    "Vamos construir um modelo simples de rede neural para reconhecer dígitos manuscritos usando o dataset MNIST.\n"
   ]
  },
  {
   "cell_type": "markdown",
   "id": "1895f21d-d0ca-469a-bf94-169b6d508289",
   "metadata": {},
   "source": [
    "## Passo 1: Importar as Bibliotecas Necessárias\n",
    "\n",
    "Primeiro, vamos importar as bibliotecas necessárias. Isso inclui TensorFlow para construir e treinar o modelo, e Matplotlib para visualização.\n"
   ]
  },
  {
   "cell_type": "code",
   "execution_count": 1,
   "id": "a0d09f0f-bd52-4f01-b66b-0a0a01c5de46",
   "metadata": {},
   "outputs": [
    {
     "name": "stderr",
     "output_type": "stream",
     "text": [
      "2024-08-04 12:45:09.080284: I external/local_xla/xla/tsl/cuda/cudart_stub.cc:32] Could not find cuda drivers on your machine, GPU will not be used.\n",
      "2024-08-04 12:45:09.087592: I external/local_xla/xla/tsl/cuda/cudart_stub.cc:32] Could not find cuda drivers on your machine, GPU will not be used.\n",
      "2024-08-04 12:45:09.104794: E external/local_xla/xla/stream_executor/cuda/cuda_fft.cc:485] Unable to register cuFFT factory: Attempting to register factory for plugin cuFFT when one has already been registered\n",
      "2024-08-04 12:45:09.130123: E external/local_xla/xla/stream_executor/cuda/cuda_dnn.cc:8454] Unable to register cuDNN factory: Attempting to register factory for plugin cuDNN when one has already been registered\n",
      "2024-08-04 12:45:09.136951: E external/local_xla/xla/stream_executor/cuda/cuda_blas.cc:1452] Unable to register cuBLAS factory: Attempting to register factory for plugin cuBLAS when one has already been registered\n",
      "2024-08-04 12:45:09.156452: I tensorflow/core/platform/cpu_feature_guard.cc:210] This TensorFlow binary is optimized to use available CPU instructions in performance-critical operations.\n",
      "To enable the following instructions: AVX2 FMA, in other operations, rebuild TensorFlow with the appropriate compiler flags.\n",
      "2024-08-04 12:45:10.612535: W tensorflow/compiler/tf2tensorrt/utils/py_utils.cc:38] TF-TRT Warning: Could not find TensorRT\n"
     ]
    }
   ],
   "source": [
    "import tensorflow as tf\n",
    "from tensorflow.keras.datasets import mnist\n",
    "from tensorflow.keras.models import Sequential\n",
    "from tensorflow.keras.layers import Dense, Flatten\n",
    "from tensorflow.keras.utils import to_categorical\n",
    "import matplotlib.pyplot as plt\n"
   ]
  },
  {
   "cell_type": "markdown",
   "id": "0dc8abcf-01e1-4945-bf6e-48bd5b8d2eaa",
   "metadata": {},
   "source": [
    "## Passo 2: Carregar e Preparar os Dados\n",
    "\n",
    "Vamos carregar o dataset MNIST e preparar os dados para o treinamento. Isso inclui normalizar as imagens e converter os rótulos para one-hot encoding.\n"
   ]
  },
  {
   "cell_type": "code",
   "execution_count": 2,
   "id": "fd2ef1ae-e15c-419f-9f81-98b445d7c8c2",
   "metadata": {},
   "outputs": [],
   "source": [
    "# Carregando o dataset MNIST\n",
    "(train_images, train_labels), (test_images, test_labels) = mnist.load_data()\n",
    "\n",
    "# Normalizando os dados\n",
    "train_images = train_images / 255.0\n",
    "test_images = test_images / 255.0\n",
    "\n",
    "# Convertendo rótulos para one-hot encoding\n",
    "train_labels = to_categorical(train_labels)\n",
    "test_labels = to_categorical(test_labels)\n"
   ]
  },
  {
   "cell_type": "markdown",
   "id": "6d3d9eec-f5a4-4b35-88b2-1657dcd54a5e",
   "metadata": {},
   "source": [
    "## Passo 3: Visualizar Algumas Imagens\n",
    "\n",
    "Vamos visualizar algumas imagens do dataset para entender melhor os dados com os quais estamos lidando.\n"
   ]
  },
  {
   "cell_type": "code",
   "execution_count": 3,
   "id": "72dd6165-c5ce-4965-93a5-fc4c51ac41e3",
   "metadata": {},
   "outputs": [
    {
     "data": {
      "image/png": "[encoded data removed]",
      "text/plain": [
       "<Figure size 1000x500 with 10 Axes>"
      ]
     },
     "metadata": {},
     "output_type": "display_data"
    }
   ],
   "source": [
    "# Visualizando algumas imagens do dataset\n",
    "plt.figure(figsize=(10, 5))\n",
    "for i in range(10):\n",
    "    plt.subplot(2, 5, i + 1)\n",
    "    plt.imshow(train_images[i], cmap='gray')\n",
    "    plt.title(f\"Label: {train_labels[i].argmax()}\")\n",
    "    plt.axis('off')\n",
    "plt.show()\n"
   ]
  },
  {
   "cell_type": "markdown",
   "id": "18facee7-5735-4cbc-a43d-58d2c8735781",
   "metadata": {},
   "source": [
    "## Passo 4: Construir o Modelo\n",
    "\n",
    "Agora, vamos construir a rede neural. Usaremos uma camada de entrada Flatten, uma camada densa intermediária e uma camada de saída com ativação softmax.\n"
   ]
  },
  {
   "cell_type": "code",
   "execution_count": 4,
   "id": "2e1e3add-e8fd-4ee1-bade-17fcac569de4",
   "metadata": {},
   "outputs": [
    {
     "name": "stderr",
     "output_type": "stream",
     "text": [
      "/home/wendell/anaconda3/envs/mini-llm-env/lib/python3.11/site-packages/keras/src/layers/reshaping/flatten.py:37: UserWarning: Do not pass an `input_shape`/`input_dim` argument to a layer. When using Sequential models, prefer using an `Input(shape)` object as the first layer in the model instead.\n",
      "  super().__init__(**kwargs)\n",
      "WARNING: All log messages before absl::InitializeLog() is called are written to STDERR\n",
      "I0000 00:00:1722786313.357472   57069 cuda_executor.cc:1015] successful NUMA node read from SysFS had negative value (-1), but there must be at least one NUMA node, so returning NUMA node zero. See more at https://github.com/torvalds/linux/blob/v6.0/Documentation/ABI/testing/sysfs-bus-pci#L344-L355\n",
      "2024-08-04 12:45:13.358973: W tensorflow/core/common_runtime/gpu/gpu_device.cc:2343] Cannot dlopen some GPU libraries. Please make sure the missing libraries mentioned above are installed properly if you would like to use GPU. Follow the guide at https://www.tensorflow.org/install/gpu for how to download and setup the required libraries for your platform.\n",
      "Skipping registering GPU devices...\n"
     ]
    }
   ],
   "source": [
    "# Construindo o modelo\n",
    "model = Sequential([\n",
    "    Flatten(input_shape=(28, 28)),\n",
    "    Dense(128, activation='relu'),\n",
    "    Dense(10, activation='softmax')\n",
    "])\n"
   ]
  },
  {
   "cell_type": "markdown",
   "id": "43e66882-a9c7-423a-9452-dc773ca22ecc",
   "metadata": {},
   "source": [
    "## Passo 5: Compilar o Modelo\n",
    "\n",
    "Vamos compilar o modelo usando o otimizador Adam e a função de perda categórica cruzada.\n"
   ]
  },
  {
   "cell_type": "code",
   "execution_count": 5,
   "id": "db4f64ad-1470-485b-a7ce-df57804cf649",
   "metadata": {},
   "outputs": [],
   "source": [
    "# Compilando o modelo\n",
    "model.compile(optimizer='adam', loss='categorical_crossentropy', metrics=['accuracy'])\n"
   ]
  },
  {
   "cell_type": "markdown",
   "id": "118ee229-dda5-4554-8439-db333d02f6fb",
   "metadata": {},
   "source": [
    "## Passo 6: Treinar o Modelo\n",
    "\n",
    "Vamos treinar o modelo com os dados de treinamento por 5 epochs.\n"
   ]
  },
  {
   "cell_type": "code",
   "execution_count": 9,
   "id": "ef941d5a-b45f-4c1e-b24e-a8991c4efb91",
   "metadata": {},
   "outputs": [
    {
     "name": "stdout",
     "output_type": "stream",
     "text": [
      "Epoch 1/5\n"
     ]
    },
    {
     "name": "stderr",
     "output_type": "stream",
     "text": [
      "2024-08-04 12:47:25.002540: W external/local_tsl/tsl/framework/cpu_allocator_impl.cc:83] Allocation of 188160000 exceeds 10% of free system memory.\n"
     ]
    },
    {
     "name": "stdout",
     "output_type": "stream",
     "text": [
      "\u001b[1m1875/1875\u001b[0m \u001b[32m━━━━━━━━━━━━━━━━━━━━\u001b[0m\u001b[37m\u001b[0m \u001b[1m6s\u001b[0m 3ms/step - accuracy: 0.8791 - loss: 0.4143 - val_accuracy: 0.9614 - val_loss: 0.1313\n",
      "Epoch 2/5\n",
      "\u001b[1m1875/1875\u001b[0m \u001b[32m━━━━━━━━━━━━━━━━━━━━\u001b[0m\u001b[37m\u001b[0m \u001b[1m5s\u001b[0m 3ms/step - accuracy: 0.9646 - loss: 0.1227 - val_accuracy: 0.9684 - val_loss: 0.0997\n",
      "Epoch 3/5\n",
      "\u001b[1m1875/1875\u001b[0m \u001b[32m━━━━━━━━━━━━━━━━━━━━\u001b[0m\u001b[37m\u001b[0m \u001b[1m5s\u001b[0m 3ms/step - accuracy: 0.9767 - loss: 0.0748 - val_accuracy: 0.9728 - val_loss: 0.0822\n",
      "Epoch 4/5\n",
      "\u001b[1m1875/1875\u001b[0m \u001b[32m━━━━━━━━━━━━━━━━━━━━\u001b[0m\u001b[37m\u001b[0m \u001b[1m5s\u001b[0m 3ms/step - accuracy: 0.9825 - loss: 0.0597 - val_accuracy: 0.9736 - val_loss: 0.0798\n",
      "Epoch 5/5\n",
      "\u001b[1m1875/1875\u001b[0m \u001b[32m━━━━━━━━━━━━━━━━━━━━\u001b[0m\u001b[37m\u001b[0m \u001b[1m6s\u001b[0m 3ms/step - accuracy: 0.9871 - loss: 0.0414 - val_accuracy: 0.9770 - val_loss: 0.0735\n"
     ]
    },
    {
     "data": {
      "text/plain": [
       "<keras.src.callbacks.history.History at 0x773a4961ce10>"
      ]
     },
     "execution_count": 9,
     "metadata": {},
     "output_type": "execute_result"
    }
   ],
   "source": [
    "# Treinando o modelo\n",
    "model.fit(train_images, train_labels, epochs=5, validation_data=(test_images, test_labels))\n"
   ]
  },
  {
   "cell_type": "markdown",
   "id": "a1d4468a-d8ef-458d-909e-424597453171",
   "metadata": {},
   "source": [
    "## Passo 7: Avaliar o Modelo\n",
    "\n",
    "Após o treinamento, vamos avaliar o modelo com os dados de teste para verificar sua precisão.\n"
   ]
  },
  {
   "cell_type": "code",
   "execution_count": 7,
   "id": "e916a497-9983-4075-97ea-415399782150",
   "metadata": {},
   "outputs": [
    {
     "name": "stdout",
     "output_type": "stream",
     "text": [
      "\u001b[1m313/313\u001b[0m \u001b[32m━━━━━━━━━━━━━━━━━━━━\u001b[0m\u001b[37m\u001b[0m \u001b[1m1s\u001b[0m 2ms/step - accuracy: 0.1014 - loss: 2.3592\n",
      "Loss: 2.366015672683716, Accuracy: 0.09489999711513519\n"
     ]
    }
   ],
   "source": [
    "# Avaliando o modelo\n",
    "loss, accuracy = model.evaluate(test_images, test_labels)\n",
    "print(f'Loss: {loss}, Accuracy: {accuracy}')\n"
   ]
  },
  {
   "cell_type": "markdown",
   "id": "a017404c-8332-445d-920a-520c9c042af8",
   "metadata": {},
   "source": [
    "## Passo 8: Fazer Previsões e Visualizar\n",
    "\n",
    "Finalmente, vamos fazer previsões com os dados de teste e visualizar algumas dessas previsões.\n"
   ]
  },
  {
   "cell_type": "code",
   "execution_count": 10,
   "id": "53cb3bc1-518c-4233-a154-be4b2a00aaf5",
   "metadata": {},
   "outputs": [
    {
     "name": "stdout",
     "output_type": "stream",
     "text": [
      "\u001b[1m313/313\u001b[0m \u001b[32m━━━━━━━━━━━━━━━━━━━━\u001b[0m\u001b[37m\u001b[0m \u001b[1m0s\u001b[0m 1ms/step\n"
     ]
    },
    {
     "data": {
      "image/png": "[encoded data removed]",
      "text/plain": [
       "<Figure size 1000x500 with 10 Axes>"
      ]
     },
     "metadata": {},
     "output_type": "display_data"
    }
   ],
   "source": [
    "# Fazendo previsões\n",
    "predictions = model.predict(test_images)\n",
    "\n",
    "# Visualizando algumas previsões\n",
    "plt.figure(figsize=(10, 5))\n",
    "for i in range(10):\n",
    "    plt.subplot(2, 5, i + 1)\n",
    "    plt.imshow(test_images[i], cmap='gray')\n",
    "    plt.title(f\"True: {test_labels[i].argmax()}, Pred: {predictions[i].argmax()}\")\n",
    "    plt.axis('off')\n",
    "plt.show()\n"
   ]
  },
  {
   "cell_type": "code",
   "execution_count": null,
   "id": "4b21e5a9-765a-4df6-abba-26661c541f1b",
   "metadata": {},
   "outputs": [],
   "source": []
  }
 ],
 "metadata": {
  "kernelspec": {
   "display_name": "Python 3 (ipykernel)",
   "language": "python",
   "name": "python3"
  },
  "language_info": {
   "codemirror_mode": {
    "name": "ipython",
    "version": 3
   },
   "file_extension": ".py",
   "mimetype": "text/x-python",
   "name": "python",
   "nbconvert_exporter": "python",
   "pygments_lexer": "ipython3",
   "version": "3.11.9"
  }
 },
 "nbformat": 4,
 "nbformat_minor": 5
}
